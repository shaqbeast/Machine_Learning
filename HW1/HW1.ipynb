{
 "cells": [
  {
   "cell_type": "markdown",
   "metadata": {
    "id": "xs9yYSRW_Mvs"
   },
   "source": [
    "## Fall 2024 CS4641/CS7641 A Homework 1 - Programming Section\n",
    "\n",
    "## Instructor: Dr. Mahdi Roozbahani\n",
    "\n",
    "## Deadline: Friday, February 7th, 11:59 pm EST\n",
    "\n",
    "<!-- No changes needed on the below section -->\n",
    "* No unapproved extension of the deadline is allowed. Submissions past our 48-hour penalized acceptance period will lead to 0 credit. \n",
    "\n",
    "* Discussion is encouraged on Ed as part of the Q/A. However, all assignments should be done individually.\n",
    "<font color='darkred'>\n",
    "* Plagiarism is a **serious offense**. You are responsible for completing your own work. You are not allowed to copy and paste, or paraphrase, or submit materials created or published by others, as if you created the materials. All materials submitted must be your own.</font>\n",
    "<font color='darkred'>\n",
    "* All incidents of suspected dishonesty, plagiarism, or violations of the Georgia Tech Honor Code will be subject to the institute’s Academic Integrity procedures. If we observe any (even small) similarities/plagiarisms detected by Gradescope or our TAs, **WE WILL DIRECTLY REPORT ALL CASES TO OSI**, which may, unfortunately, lead to a very harsh outcome. **Consequences can be severe, e.g., academic probation or dismissal, grade penalties, a 0 grade for assignments concerned, and prohibition from withdrawing from the class.**\n",
    "</font>\n"
   ]
  },
  {
   "cell_type": "markdown",
   "metadata": {
    "id": "uI6nZBMF_Mvw",
    "tags": []
   },
   "source": [
    "## Instructions for the assignment \n",
    "\n",
    "<!-- No changes needed on the below section -->\n",
    "- This assignment consists of warm-up programming questions designed to get you familiar with our programming homework structure."
   ]
  },
  {
   "cell_type": "markdown",
   "metadata": {
    "id": "g7stIuyo_Mvx"
   },
   "source": [
    "## Using the autograder\n",
    "\n",
    "- Grads will typically find three assignments on Gradescope and Undergrads will typically find four assignments:\n",
    "    - \"Assignment X Non-programming\": Where you will submit the written portion of the assignment.\n",
    "    - \"Assignment X Programming\": Where you will submit any .py files and any program outputs as required by the problem.\n",
    "    - \"Assignment X Programming - Bonus for All\": Where you will submit any .py files and any program outputs as required for Bonus for All.\n",
    "    - \"Assignment X Programming - Bonus for Undergrad\": Where you will submit any .py files and any program outputs as required for Bonus for Undergrand. (Undergrad Only)\n",
    "\n",
    "<!-- No changes needed on the below section -->\n",
    "- You will submit your code for the autograder in the Assignment 1 Programming section. \n",
    "\n",
    "- We provided you .py files and we added libraries in those files please DO NOT remove those lines and add your code after those lines. Note that these are the only allowed libraries that you can use for the homework.\n",
    "\n",
    "- You are allowed to make as many submissions until the deadline as you like. Additionally, note that the autograder tests each function separately, therefore it can serve as a useful tool to help you debug your code if you are not sure of what part of your implementation might have an issue.\n",
    "<!-- No changes needed on the above section -->"
   ]
  },
  {
   "cell_type": "markdown",
   "metadata": {
    "id": "_Nz2030u_Mvy",
    "tags": []
   },
   "source": [
    "## Deliverables and Points Distribution \n",
    "\n",
    "### Q7: Programming Warm-Up [5pts total]\n",
    "#### Deliverables: \n",
    "- `warmup.py`\n",
    "- `env.pkl`\n",
    "\n",
    "#### Parts: \n",
    "- **Setup** [2pts] - *programming*\n",
    "\n",
    "- **Numpy** [3pts] - _programming_\n",
    "    - Numpy Basics [2pts]\n",
    "    - Broadcasting [1pts] "
   ]
  },
  {
   "cell_type": "markdown",
   "metadata": {
    "id": "cKKsCsvo_Mvz"
   },
   "source": [
    "## 7.1 Setup [1pt]\n",
    "\n",
    "- **Deliverable:** `env.pkl`\n",
    "\n",
    "This notebook is tested under [python 3.11](https://www.python.org/downloads/release/python-3110/), and the corresponding packages can be downloaded from [miniconda](https://docs.conda.io/en/latest/miniconda.html). You may also want to get yourself familiar with several packages:\n",
    "\n",
    "- [jupyter lab](https://jupyterlab.readthedocs.io/en/stable/): provides a web-based IDE with a built-in debugging functionality for jupyter notebooks.\n",
    "- [numpy](https://numpy.org/doc/1.23/): a high performance math library backed by C\n",
    "- [matplotlib](https://matplotlib.org/users/pyplot_tutorial.html): a python plotting libaray\n",
    "\n",
    "Other packages you may find indispensable in machine learning (and potentially your project) are:\n",
    "  \n",
    "- [scikit-learn](https://scikit-learn.org/stable/getting_started.html): provides many classical ML and data analysis algorithms\n",
    "- [pandas](https://pandas.pydata.org/docs/): provides many useful tools for organizing and manipulating data\n",
    "- [seaborn](https://seaborn.pydata.org/tutorial/introduction.html): make beatiful plots with less fidgeting in matplotlib\n",
    "- [plotly](https://plotly.com/python/): another great data visualization package\n",
    "\n",
    "Please implement the functions that have \"raise NotImplementedError\", and after you finish the coding, please delete or comment \"raise NotImplementedError\".\n",
    "# \n",
    "__Before you run any jupyter notebook cells, please read environment_setup.md in the environment folder and follow the instructions to set up the environment.__"
   ]
  },
  {
   "cell_type": "code",
   "execution_count": 12,
   "metadata": {
    "execution": {
     "iopub.execute_input": "2024-12-07T15:29:20.974702Z",
     "iopub.status.busy": "2024-12-07T15:29:20.973095Z",
     "iopub.status.idle": "2024-12-07T15:29:21.818342Z",
     "shell.execute_reply": "2024-12-07T15:29:21.816911Z"
    }
   },
   "outputs": [
    {
     "name": "stdout",
     "output_type": "stream",
     "text": [
      "Version information\n",
      "python: 3.11.11 (main, Dec 11 2024, 10:28:39) [Clang 14.0.6 ]\n",
      "numpy: 1.26.4\n",
      "The autoreload extension is already loaded. To reload it, use:\n",
      "  %reload_ext autoreload\n"
     ]
    }
   ],
   "source": [
    "###############################\n",
    "### DO NOT CHANGE THIS CELL ###\n",
    "###############################\n",
    "\n",
    "import sys\n",
    "\n",
    "sys.path.append(\"./utilities/\")\n",
    "sys.path.append(\"warmup.py\")\n",
    "\n",
    "import numpy as np\n",
    "\n",
    "print(\"Version information\")\n",
    "\n",
    "print(\"python: {}\".format(sys.version))\n",
    "print(\"numpy: {}\".format(np.__version__))\n",
    "\n",
    "\n",
    "%load_ext autoreload\n",
    "%autoreload 2"
   ]
  },
  {
   "cell_type": "markdown",
   "metadata": {
    "id": "Ysr89SO3_Mv0"
   },
   "source": [
    "### 7.1.1 Basics, Imports, and Directories\n",
    "For the following part, you will need to ensure your notebook runtime is started in the correct directory. You can verify this with the following cell."
   ]
  },
  {
   "cell_type": "code",
   "execution_count": 2,
   "metadata": {
    "execution": {
     "iopub.execute_input": "2024-12-07T15:29:21.901103Z",
     "iopub.status.busy": "2024-12-07T15:29:21.899319Z",
     "iopub.status.idle": "2024-12-07T15:29:21.946392Z",
     "shell.execute_reply": "2024-12-07T15:29:21.945047Z"
    }
   },
   "outputs": [
    {
     "data": {
      "text/plain": [
       "'/Users/shaqbeast/CS_7641_ML/Homeworks/HW1'"
      ]
     },
     "execution_count": 2,
     "metadata": {},
     "output_type": "execute_result"
    }
   ],
   "source": [
    "###############################\n",
    "### DO NOT CHANGE THIS CELL ###\n",
    "###############################\n",
    "\n",
    "# RUN ME #\n",
    "import os\n",
    "\n",
    "os.getcwd()"
   ]
  },
  {
   "cell_type": "markdown",
   "metadata": {},
   "source": [
    "In the cell below, import the `PackageUtils` class from `utils.py`."
   ]
  },
  {
   "cell_type": "code",
   "execution_count": 6,
   "metadata": {
    "execution": {
     "iopub.execute_input": "2024-12-07T15:29:21.952318Z",
     "iopub.status.busy": "2024-12-07T15:29:21.950953Z",
     "iopub.status.idle": "2024-12-07T15:29:21.983378Z",
     "shell.execute_reply": "2024-12-07T15:29:21.981999Z"
    }
   },
   "outputs": [],
   "source": [
    "# YOUR CODE HERE #\n",
    "from utils import PackageUtils"
   ]
  },
  {
   "cell_type": "markdown",
   "metadata": {},
   "source": [
    "In the cell below, call the `get_packages` method of the PackageUtils class to see what packages are installed in this notebook's runtime environment."
   ]
  },
  {
   "cell_type": "code",
   "execution_count": 10,
   "metadata": {
    "execution": {
     "iopub.execute_input": "2024-12-07T15:29:22.301645Z",
     "iopub.status.busy": "2024-12-07T15:29:22.300426Z",
     "iopub.status.idle": "2024-12-07T15:29:22.339820Z",
     "shell.execute_reply": "2024-12-07T15:29:22.338446Z"
    },
    "tags": []
   },
   "outputs": [
    {
     "name": "stdout",
     "output_type": "stream",
     "text": [
      "anyio @ file:///private/var/folders/c_/qfmhj66j0tn016nkx_th4hxm0000gp/T/abs_d3wggtkt2s/croot/anyio_1729121282950/work\n",
      "appnope @ file:///Users/ec2-user/ci_py311/appnope_1678317440516/work\n",
      "argon2-cffi @ file:///opt/conda/conda-bld/argon2-cffi_1645000214183/work\n",
      "argon2-cffi-bindings @ file:///private/var/folders/sy/f16zz6x50xz3113nwtb9bvq00000gp/T/abs_a2dqjqi0nt/croot/argon2-cffi-bindings_1736182447763/work\n",
      "asttokens @ file:///opt/conda/conda-bld/asttokens_1646925590279/work\n",
      "async-lru @ file:///private/var/folders/sy/f16zz6x50xz3113nwtb9bvq00000gp/T/abs_365oz8ukt9/croot/async-lru_1699554543402/work\n",
      "attrs @ file:///private/var/folders/c_/qfmhj66j0tn016nkx_th4hxm0000gp/T/abs_3d06zr_mcz/croot/attrs_1734533118470/work\n",
      "autocommand==2.2.2\n",
      "babel @ file:///private/var/folders/sy/f16zz6x50xz3113nwtb9bvq00000gp/T/abs_40eit1iehp/croot/babel_1737454384464/work\n",
      "backports.tarfile==1.2.0\n",
      "beautifulsoup4 @ file:///private/var/folders/sy/f16zz6x50xz3113nwtb9bvq00000gp/T/abs_74rj45rt1p/croot/beautifulsoup4-split_1718029835783/work\n",
      "bleach @ file:///private/var/folders/sy/f16zz6x50xz3113nwtb9bvq00000gp/T/abs_890sng5pfo/croot/bleach_1732291637871/work\n",
      "Bottleneck @ file:///private/var/folders/sy/f16zz6x50xz3113nwtb9bvq00000gp/T/abs_33wnmqdh9g/croot/bottleneck_1731058648266/work\n",
      "Brotli @ file:///private/var/folders/sy/f16zz6x50xz3113nwtb9bvq00000gp/T/abs_d7pp3g74_g/croot/brotli-split_1736182638718/work\n",
      "certifi @ file:///private/var/folders/sy/f16zz6x50xz3113nwtb9bvq00000gp/T/abs_d0mlk2yciq/croot/certifi_1738623741969/work/certifi\n",
      "cffi @ file:///private/var/folders/c_/qfmhj66j0tn016nkx_th4hxm0000gp/T/abs_51d1gdg4kr/croot/cffi_1736183297412/work\n",
      "charset-normalizer @ file:///croot/charset-normalizer_1721748349566/work\n",
      "comm @ file:///private/var/folders/sy/f16zz6x50xz3113nwtb9bvq00000gp/T/abs_aef2nlxc2o/croot/comm_1709322866518/work\n",
      "contourpy @ file:///private/var/folders/c_/qfmhj66j0tn016nkx_th4hxm0000gp/T/abs_6236u4rf19/croot/contourpy_1732540057596/work\n",
      "cycler @ file:///tmp/build/80754af9/cycler_1637851556182/work\n",
      "debugpy @ file:///private/var/folders/sy/f16zz6x50xz3113nwtb9bvq00000gp/T/abs_a5sm9dmihj/croot/debugpy_1736267550163/work\n",
      "decorator @ file:///opt/conda/conda-bld/decorator_1643638310831/work\n",
      "defusedxml @ file:///tmp/build/80754af9/defusedxml_1615228127516/work\n",
      "executing @ file:///opt/conda/conda-bld/executing_1646925071911/work\n",
      "fastjsonschema @ file:///private/var/folders/sy/f16zz6x50xz3113nwtb9bvq00000gp/T/abs_13il3azn5x/croot/python-fastjsonschema_1731939499843/work\n",
      "fonttools @ file:///private/var/folders/sy/f16zz6x50xz3113nwtb9bvq00000gp/T/abs_706ove9ndu/croot/fonttools_1737039799828/work\n",
      "h11 @ file:///private/var/folders/c_/qfmhj66j0tn016nkx_th4hxm0000gp/T/abs_14h6x3q_k6/croot/h11_1706652288187/work\n",
      "httpcore @ file:///private/var/folders/sy/f16zz6x50xz3113nwtb9bvq00000gp/T/abs_2ek8c13vuv/croot/httpcore_1706728466947/work\n",
      "httpx @ file:///private/var/folders/sy/f16zz6x50xz3113nwtb9bvq00000gp/T/abs_74uqix89pr/croot/httpx_1723474816711/work\n",
      "idna @ file:///private/var/folders/c_/qfmhj66j0tn016nkx_th4hxm0000gp/T/abs_2b_jn555_n/croot/idna_1714398852258/work\n",
      "imageio @ file:///private/var/folders/sy/f16zz6x50xz3113nwtb9bvq00000gp/T/abs_907lgo0h9q/croot/imageio_1738160289499/work\n",
      "importlib_metadata==8.0.0\n",
      "inflect==7.3.1\n",
      "ipykernel @ file:///private/var/folders/sy/f16zz6x50xz3113nwtb9bvq00000gp/T/abs_6757k8pgf8/croot/ipykernel_1737662465787/work\n",
      "ipython @ file:///private/var/folders/sy/f16zz6x50xz3113nwtb9bvq00000gp/T/abs_f6ex7m1blz/croot/ipython_1734550232322/work\n",
      "ipywidgets @ file:///private/var/folders/sy/f16zz6x50xz3113nwtb9bvq00000gp/T/abs_19hlgawn03/croot/ipywidgets_1733504574052/work\n",
      "jaraco.collections==5.1.0\n",
      "jaraco.context==5.3.0\n",
      "jaraco.functools==4.0.1\n",
      "jaraco.text==3.12.1\n",
      "jedi @ file:///private/var/folders/sy/f16zz6x50xz3113nwtb9bvq00000gp/T/abs_b78vrox9dk/croot/jedi_1733987406492/work\n",
      "Jinja2 @ file:///private/var/folders/sy/f16zz6x50xz3113nwtb9bvq00000gp/T/abs_c4sgka04ic/croot/jinja2_1737760120699/work\n",
      "joblib @ file:///private/var/folders/c_/qfmhj66j0tn016nkx_th4hxm0000gp/T/abs_825_m6wwnf/croot/joblib_1718217221510/work\n",
      "json5 @ file:///private/var/folders/c_/qfmhj66j0tn016nkx_th4hxm0000gp/T/abs_f7m7nb46i6/croot/json5_1730786807490/work\n",
      "jsonschema @ file:///private/var/folders/sy/f16zz6x50xz3113nwtb9bvq00000gp/T/abs_20pyq8pymy/croot/jsonschema_1728486714853/work\n",
      "jsonschema-specifications @ file:///private/var/folders/c_/qfmhj66j0tn016nkx_th4hxm0000gp/T/abs_a8fa_vbpr0/croot/jsonschema-specifications_1699032391984/work\n",
      "jupyter-events @ file:///private/var/folders/sy/f16zz6x50xz3113nwtb9bvq00000gp/T/abs_0ahkeborfn/croot/jupyter_events_1718738118710/work\n",
      "jupyter-lsp @ file:///private/var/folders/sy/f16zz6x50xz3113nwtb9bvq00000gp/T/abs_8bgnow1zue/croot/jupyter-lsp-meta_1699978255202/work\n",
      "jupyter_client @ file:///private/var/folders/sy/f16zz6x50xz3113nwtb9bvq00000gp/T/abs_e4fuoqieve/croot/jupyter_client_1737570976188/work\n",
      "jupyter_core @ file:///private/var/folders/c_/qfmhj66j0tn016nkx_th4hxm0000gp/T/abs_80l8bw91xp/croot/jupyter_core_1718818299834/work\n",
      "jupyter_server @ file:///private/var/folders/c_/qfmhj66j0tn016nkx_th4hxm0000gp/T/abs_d76py1hq6i/croot/jupyter_server_1718827088455/work\n",
      "jupyter_server_terminals @ file:///private/var/folders/sy/f16zz6x50xz3113nwtb9bvq00000gp/T/abs_257krljdmq/croot/jupyter_server_terminals_1686870730796/work\n",
      "jupyterlab @ file:///private/var/folders/c_/qfmhj66j0tn016nkx_th4hxm0000gp/T/abs_26g_3s_49c/croot/jupyterlab_1737555430829/work\n",
      "jupyterlab-pygments @ file:///tmp/build/80754af9/jupyterlab_pygments_1601490720602/work\n",
      "jupyterlab_server @ file:///private/var/folders/sy/f16zz6x50xz3113nwtb9bvq00000gp/T/abs_3ak8oma7hk/croot/jupyterlab_server_1725865365518/work\n",
      "jupyterlab_widgets @ file:///private/var/folders/sy/f16zz6x50xz3113nwtb9bvq00000gp/T/abs_4bgj673ai2/croot/jupyterlab_widgets_1733440878424/work\n",
      "kiwisolver @ file:///private/var/folders/sy/f16zz6x50xz3113nwtb9bvq00000gp/T/abs_92lgswl3y6/croot/kiwisolver_1737040154211/work\n",
      "lazy_loader @ file:///private/var/folders/c_/qfmhj66j0tn016nkx_th4hxm0000gp/T/abs_a1zssksyo7/croot/lazy_loader_1718176750068/work\n",
      "MarkupSafe @ file:///private/var/folders/sy/f16zz6x50xz3113nwtb9bvq00000gp/T/abs_76vhch455b/croot/markupsafe_1738584048225/work\n",
      "matplotlib==3.10.0\n",
      "matplotlib-inline @ file:///Users/ec2-user/ci_py311/matplotlib-inline_1678317544666/work\n",
      "mistune @ file:///Users/ec2-user/ci_py311/mistune_1678317250930/work\n",
      "more-itertools==10.3.0\n",
      "nbclient @ file:///private/var/folders/c_/qfmhj66j0tn016nkx_th4hxm0000gp/T/abs_623buwsd_7/croot/nbclient_1698934220529/work\n",
      "nbconvert @ file:///private/var/folders/sy/f16zz6x50xz3113nwtb9bvq00000gp/T/abs_2eojbpwhtf/croot/nbconvert_1728049972177/work\n",
      "nbformat @ file:///private/var/folders/c_/qfmhj66j0tn016nkx_th4hxm0000gp/T/abs_a83923jn5m/croot/nbformat_1728049884447/work\n",
      "nest-asyncio @ file:///private/var/folders/c_/qfmhj66j0tn016nkx_th4hxm0000gp/T/abs_c44_atq5c1/croot/nest-asyncio_1708532677863/work\n",
      "networkx @ file:///private/var/folders/sy/f16zz6x50xz3113nwtb9bvq00000gp/T/abs_ba1do7fwxc/croot/networkx_1737043398715/work\n",
      "notebook @ file:///private/var/folders/c_/qfmhj66j0tn016nkx_th4hxm0000gp/T/abs_862ahsiwpe/croot/notebook_1738159948966/work\n",
      "notebook_shim @ file:///private/var/folders/c_/qfmhj66j0tn016nkx_th4hxm0000gp/T/abs_3ad004vb8r/croot/notebook-shim_1699455899066/work\n",
      "numexpr @ file:///private/var/folders/c_/qfmhj66j0tn016nkx_th4hxm0000gp/T/abs_ffj5ghzq2u/croot/numexpr_1730215943719/work\n",
      "numpy @ file:///private/var/folders/c_/qfmhj66j0tn016nkx_th4hxm0000gp/T/abs_b7iptlxgej/croot/numpy_and_numpy_base_1708638622773/work/dist/numpy-1.26.4-cp311-cp311-macosx_10_9_x86_64.whl#sha256=ca93246020dd5cf5864c57fea8d3b0afd6530b245222908737c7f434a105fdc2\n",
      "overrides @ file:///private/var/folders/sy/f16zz6x50xz3113nwtb9bvq00000gp/T/abs_a4tzft66ma/croot/overrides_1699371143883/work\n",
      "packaging @ file:///private/var/folders/c_/qfmhj66j0tn016nkx_th4hxm0000gp/T/abs_15t4xe1fp0/croot/packaging_1734472125760/work\n",
      "pandas @ file:///private/var/folders/c_/qfmhj66j0tn016nkx_th4hxm0000gp/T/abs_d6o0iypzho/croot/pandas_1732735102618/work/dist/pandas-2.2.3-cp311-cp311-macosx_10_15_x86_64.whl#sha256=1ae124533ea6f6dd1d1aedc90129c1002a1895eb41a75753bf81669993425922\n",
      "pandocfilters @ file:///opt/conda/conda-bld/pandocfilters_1643405455980/work\n",
      "parso @ file:///private/var/folders/sy/f16zz6x50xz3113nwtb9bvq00000gp/T/abs_ffagjb_lok/croot/parso_1733963312676/work\n",
      "patsy @ file:///private/var/folders/sy/f16zz6x50xz3113nwtb9bvq00000gp/T/abs_96zknywdq_/croot/patsy_1738159936109/work\n",
      "pexpect @ file:///tmp/build/80754af9/pexpect_1605563209008/work\n",
      "pillow @ file:///private/var/folders/sy/f16zz6x50xz3113nwtb9bvq00000gp/T/abs_153gp0xp5x/croot/pillow_1738010255299/work\n",
      "pip @ file:///private/var/folders/sy/f16zz6x50xz3113nwtb9bvq00000gp/T/abs_0998jmay6p/croot/pip_1737992918889/work\n",
      "platformdirs @ file:///private/var/folders/sy/f16zz6x50xz3113nwtb9bvq00000gp/T/abs_640usff2p5/croot/platformdirs_1692205656061/work\n",
      "prometheus_client @ file:///private/var/folders/sy/f16zz6x50xz3113nwtb9bvq00000gp/T/abs_6ee4g8mmv4/croot/prometheus_client_1731958834227/work\n",
      "prompt-toolkit @ file:///private/var/folders/sy/f16zz6x50xz3113nwtb9bvq00000gp/T/abs_4d8kk9w3ed/croot/prompt-toolkit_1704404354789/work\n",
      "psutil @ file:///private/var/folders/sy/f16zz6x50xz3113nwtb9bvq00000gp/T/abs_ed123tcwwq/croot/psutil_1736369384437/work\n",
      "ptyprocess @ file:///tmp/build/80754af9/ptyprocess_1609355006118/work/dist/ptyprocess-0.7.0-py2.py3-none-any.whl\n",
      "pure-eval @ file:///opt/conda/conda-bld/pure_eval_1646925070566/work\n",
      "pycparser @ file:///tmp/build/80754af9/pycparser_1636541352034/work\n",
      "Pygments @ file:///private/var/folders/sy/f16zz6x50xz3113nwtb9bvq00000gp/T/abs_cflayrfqsi/croot/pygments_1684279981084/work\n",
      "pyparsing @ file:///private/var/folders/sy/f16zz6x50xz3113nwtb9bvq00000gp/T/abs_32bhy1idl3/croot/pyparsing_1731445537860/work\n",
      "PySocks @ file:///Users/ec2-user/ci_py311/pysocks_1678315868424/work\n",
      "python-dateutil @ file:///private/var/folders/c_/qfmhj66j0tn016nkx_th4hxm0000gp/T/abs_efk5_uakg8/croot/python-dateutil_1716495742183/work\n",
      "python-json-logger @ file:///private/var/folders/c_/qfmhj66j0tn016nkx_th4hxm0000gp/T/abs_02zk1pjbnn/croot/python-json-logger_1734370027658/work\n",
      "pytz @ file:///private/var/folders/sy/f16zz6x50xz3113nwtb9bvq00000gp/T/abs_244ln7biq9/croot/pytz_1713974320727/work\n",
      "PyYAML @ file:///private/var/folders/sy/f16zz6x50xz3113nwtb9bvq00000gp/T/abs_34t43scp15/croot/pyyaml_1728658999838/work\n",
      "pyzmq @ file:///private/var/folders/sy/f16zz6x50xz3113nwtb9bvq00000gp/T/abs_728n2oj6m9/croot/pyzmq_1734709561835/work\n",
      "referencing @ file:///private/var/folders/sy/f16zz6x50xz3113nwtb9bvq00000gp/T/abs_15mb8b6xor/croot/referencing_1699012045485/work\n",
      "requests @ file:///private/var/folders/c_/qfmhj66j0tn016nkx_th4hxm0000gp/T/abs_2eh84h3yiv/croot/requests_1730999127987/work\n",
      "rfc3339-validator @ file:///private/var/folders/sy/f16zz6x50xz3113nwtb9bvq00000gp/T/abs_07a1ken4gz/croot/rfc3339-validator_1683077050666/work\n",
      "rfc3986-validator @ file:///private/var/folders/sy/f16zz6x50xz3113nwtb9bvq00000gp/T/abs_6dzvsqx89i/croot/rfc3986-validator_1683059150431/work\n",
      "rpds-py @ file:///private/var/folders/c_/qfmhj66j0tn016nkx_th4hxm0000gp/T/abs_a26ewoe7np/croot/rpds-py_1736546270709/work\n",
      "scikit-image @ file:///private/var/folders/sy/f16zz6x50xz3113nwtb9bvq00000gp/T/abs_33m1z2f81a/croot/scikit-image_1737473441156/work\n",
      "scikit-learn @ file:///private/var/folders/c_/qfmhj66j0tn016nkx_th4hxm0000gp/T/abs_86qebg7897/croot/scikit-learn_1737988767278/work\n",
      "scipy @ file:///private/var/folders/sy/f16zz6x50xz3113nwtb9bvq00000gp/T/abs_06t04e6sdk/croot/scipy_1737122910960/work/dist/scipy-1.15.1-cp311-cp311-macosx_10_15_x86_64.whl#sha256=19b5ff61c7cd2aeaa19bb032ac10f861db51ae994fd41a11ef14f7f8470d2677\n",
      "seaborn @ file:///private/var/folders/sy/f16zz6x50xz3113nwtb9bvq00000gp/T/abs_ee_rs2l_8e/croot/seaborn_1718302941172/work\n",
      "Send2Trash @ file:///private/var/folders/sy/f16zz6x50xz3113nwtb9bvq00000gp/T/abs_c6nqi_wr6u/croot/send2trash_1736543286662/work\n",
      "setuptools==75.8.0\n",
      "six @ file:///tmp/build/80754af9/six_1644875935023/work\n",
      "sniffio @ file:///private/var/folders/sy/f16zz6x50xz3113nwtb9bvq00000gp/T/abs_a46njf828g/croot/sniffio_1705431298111/work\n",
      "soupsieve @ file:///private/var/folders/c_/qfmhj66j0tn016nkx_th4hxm0000gp/T/abs_9cjy8iflks/croot/soupsieve_1696347576367/work\n",
      "stack-data @ file:///opt/conda/conda-bld/stack_data_1646927590127/work\n",
      "statsmodels @ file:///private/var/folders/sy/f16zz6x50xz3113nwtb9bvq00000gp/T/abs_3cm7j88jdw/croot/statsmodels_1734018881884/work\n",
      "terminado @ file:///Users/ec2-user/ci_py311/terminado_1678317735543/work\n",
      "threadpoolctl @ file:///private/var/folders/c_/qfmhj66j0tn016nkx_th4hxm0000gp/T/abs_83z9rmqojb/croot/threadpoolctl_1719407811780/work\n",
      "tifffile @ file:///private/var/folders/sy/f16zz6x50xz3113nwtb9bvq00000gp/T/abs_f5ql5hsbf5/croot/tifffile_1734340916658/work\n",
      "tinycss2 @ file:///private/var/folders/c_/qfmhj66j0tn016nkx_th4hxm0000gp/T/abs_de19zi_a0n/croot/tinycss2_1738339866577/work\n",
      "tomli==2.0.1\n",
      "tornado @ file:///private/var/folders/sy/f16zz6x50xz3113nwtb9bvq00000gp/T/abs_a2c0voe1m0/croot/tornado_1733960496093/work\n",
      "tqdm @ file:///private/var/folders/c_/qfmhj66j0tn016nkx_th4hxm0000gp/T/abs_5akmb2c3eu/croot/tqdm_1724853941623/work\n",
      "traitlets @ file:///private/var/folders/sy/f16zz6x50xz3113nwtb9bvq00000gp/T/abs_f49losghmg/croot/traitlets_1718227069025/work\n",
      "tweet-preprocessor==0.6.0\n",
      "typeguard==4.3.0\n",
      "typing_extensions @ file:///private/var/folders/sy/f16zz6x50xz3113nwtb9bvq00000gp/T/abs_6dn2s8ln8g/croot/typing_extensions_1734714858107/work\n",
      "tzdata @ file:///croot/python-tzdata_1690578112552/work\n",
      "unicodedata2 @ file:///private/var/folders/sy/f16zz6x50xz3113nwtb9bvq00000gp/T/abs_c9zunc70re/croot/unicodedata2_1736544422992/work\n",
      "urllib3 @ file:///private/var/folders/sy/f16zz6x50xz3113nwtb9bvq00000gp/T/abs_8bqv7goib8/croot/urllib3_1737133637259/work\n",
      "wcwidth @ file:///Users/ktietz/demo/mc3/conda-bld/wcwidth_1629357192024/work\n",
      "webencodings==0.5.1\n",
      "websocket-client @ file:///private/var/folders/c_/qfmhj66j0tn016nkx_th4hxm0000gp/T/abs_8c3cjp8r36/croot/websocket-client_1715878317325/work\n",
      "wheel==0.45.1\n",
      "widgetsnbextension @ file:///private/var/folders/sy/f16zz6x50xz3113nwtb9bvq00000gp/T/abs_d0he_ifeum/croot/widgetsnbextension_1733439595066/work\n",
      "zipp==3.19.2\n"
     ]
    }
   ],
   "source": [
    "# YOUR CODE HERE #\n",
    "package_utils = PackageUtils()\n",
    "package_utils.get_packages()"
   ]
  },
  {
   "cell_type": "markdown",
   "metadata": {},
   "source": [
    "### 7.1.2 Local Testing & Debugging\n",
    "\n",
    "Optional local tests using a small toy dataset are sometimes provided to aid in debugging. The local tests are all stored in localtests.py\n",
    "#### The autograder is the final arbiter\n",
    "- There are no points associated with passing or failing the local tests, you must still pass the autograder to get points. \n",
    "- It is possible to fail the local test and pass the autograder.\n",
    "    - The autograder may have tolerances to account for minor implementation differences. \n",
    "    - The reverse is also true, as the autograder may cover a larger number of corner cases.\n",
    "- **You do not need to pass both local and autograder tests to get points, passing the Gradescope autograder is sufficient for credit.**\n",
    "\n",
    "#### Work smarter, not harder\n",
    "- Read the stack trace carefully. Often it will tell you exactly what's wrong.\n",
    "- Understand what the local-test is doing. That way you can develop your own tests. \n",
    "- Grow beyond the print statement: embrace a debugger. Jupyter-lab has a [built in debugger](https://jupyterlab.readthedocs.io/en/stable/user/debugger.html) which allows you to look at data types, set breakpoints, and examine variables. If using a different IDE, look up your IDE's documentation on how to setup a proper debugger. \n",
    "- Develop incrementally and test frequently, both localy and on Gradescope. Waiting to complete the whole class before testing can make it hard to isolate errors. "
   ]
  },
  {
   "cell_type": "markdown",
   "metadata": {},
   "source": [
    "For this problem perform the following in the cell below: \n",
    "- import `WarmupTests` from the `localtests.py`. \n",
    "- Run the cell and submit `env.pkl`"
   ]
  },
  {
   "cell_type": "code",
   "execution_count": 13,
   "metadata": {
    "execution": {
     "iopub.execute_input": "2024-12-07T15:29:23.011206Z",
     "iopub.status.busy": "2024-12-07T15:29:23.010747Z",
     "iopub.status.idle": "2024-12-07T15:29:23.061261Z",
     "shell.execute_reply": "2024-12-07T15:29:23.059562Z"
    }
   },
   "outputs": [],
   "source": [
    "import unittest\n",
    "\n",
    "# import WarmupTests from the localtests.py in the utilities folder.\n",
    "from localtests import WarmupTests\n",
    "\n",
    "# END YOUR CODE ABOVE #"
   ]
  },
  {
   "cell_type": "code",
   "execution_count": 14,
   "metadata": {
    "execution": {
     "iopub.execute_input": "2024-12-07T15:29:23.117379Z",
     "iopub.status.busy": "2024-12-07T15:29:23.116922Z",
     "iopub.status.idle": "2024-12-07T15:29:23.167817Z",
     "shell.execute_reply": "2024-12-07T15:29:23.166116Z"
    }
   },
   "outputs": [
    {
     "name": "stderr",
     "output_type": "stream",
     "text": [
      ".\n",
      "----------------------------------------------------------------------\n",
      "Ran 1 test in 0.002s\n",
      "\n",
      "OK\n"
     ]
    },
    {
     "name": "stdout",
     "output_type": "stream",
     "text": [
      "Passed test_get_packages\n"
     ]
    }
   ],
   "source": [
    "###############################\n",
    "### DO NOT CHANGE THIS CELL ###\n",
    "###############################\n",
    "result = unittest.main(\n",
    "    argv=[\"ignored\", \"WarmupTests.test_get_packages\"], verbosity=1, exit=False\n",
    ")\n",
    "if not result.result.wasSuccessful():\n",
    "    sys.exit(1)"
   ]
  },
  {
   "attachments": {},
   "cell_type": "markdown",
   "metadata": {},
   "source": [
    "## 7.2 Numpy Basics [2pt]\n",
    "The following exercise will familiarize you with the basics of working with Numpy and navigating the [numpy documentation](https://numpy.org/doc/1.23/reference/index.html)\n",
    "\n",
    "In `warmup.py` you will implement several \"one-liners\" using functions provided by numpy. No points will be awarded on Gradescope for any use of for loops or list comprehensions. Implement the following functions in `warmup.py`:\n",
    "\n",
    "- indices_of_k\n",
    "- argmax_1d\n",
    "- mean_rows\n",
    "- sum_squares\n",
    "\n",
    "You may test your implementation with the below local tests. These local tests only checks the returned values of your implementation and does not check whether your implementation uses loops. Gradescope will check to make sure your implementation does not use loops (for, while, or list comprehensions).\n",
    "\n",
    "<span style=\"color:red\">**WARNING: Make sure you match the dimensions of the output given in the comments of required function in warmup.py**</span>\n",
    "\n",
    "<span style=\"color:red\">HINT: Print and see what numpy functions are doing as much as you can!</span>"
   ]
  },
  {
   "cell_type": "code",
   "execution_count": 18,
   "metadata": {
    "execution": {
     "iopub.execute_input": "2024-12-07T15:29:23.173208Z",
     "iopub.status.busy": "2024-12-07T15:29:23.172773Z",
     "iopub.status.idle": "2024-12-07T15:29:23.243518Z",
     "shell.execute_reply": "2024-12-07T15:29:23.241787Z"
    }
   },
   "outputs": [
    {
     "name": "stderr",
     "output_type": "stream",
     "text": [
      ".....\n",
      "----------------------------------------------------------------------\n",
      "Ran 5 tests in 0.004s\n",
      "\n",
      "OK\n"
     ]
    },
    {
     "name": "stdout",
     "output_type": "stream",
     "text": [
      "Correct Values for argmax_1d\n",
      "Passed test_get_packages\n",
      "Correct Values for indices_of_k\n",
      "Correct Values for mean_rows\n",
      "Correct Values for sum_squares\n"
     ]
    }
   ],
   "source": [
    "###############################\n",
    "### DO NOT CHANGE THIS CELL ###\n",
    "###############################\n",
    "import unittest\n",
    "\n",
    "result = unittest.main(argv=[\"\"], verbosity=1, exit=False)\n",
    "\n",
    "if not result.result.wasSuccessful():\n",
    "    sys.exit(1)"
   ]
  },
  {
   "cell_type": "markdown",
   "metadata": {},
   "source": [
    "## 7.3 Broadcasting [1pt]\n",
    "\n",
    "One of the simplest and most common similarity metrics in ML is the Manhattan Distance or [taxicab-distance](https://en.wikipedia.org/wiki/Taxicab_geometry). The function below takes two lists of $N$ points in $D$ dimensional space (NxD numpy arrays) and computes the Manhattan distance between every possible pair of points. *Hint: you can use this to try creating your own unittests*\n",
    "\n",
    "Unfortunately such an implementation is too slow for a large dataset. In `fast_manhattan` leverage the broadcasting properties of numpy to create a faster version in a single line."
   ]
  },
  {
   "cell_type": "code",
   "execution_count": 19,
   "metadata": {
    "execution": {
     "iopub.execute_input": "2024-12-07T15:29:23.249505Z",
     "iopub.status.busy": "2024-12-07T15:29:23.249012Z",
     "iopub.status.idle": "2024-12-07T15:29:23.294427Z",
     "shell.execute_reply": "2024-12-07T15:29:23.292668Z"
    }
   },
   "outputs": [],
   "source": [
    "###############################\n",
    "### DO NOT CHANGE THIS CELL ###\n",
    "###############################\n",
    "\n",
    "import numpy as np\n",
    "\n",
    "\n",
    "def slow_manhattan(x, y):\n",
    "    \"\"\"\n",
    "    Args:\n",
    "        x: N x D numpy array\n",
    "        y: M x D numpy array\n",
    "     Return:\n",
    "        dist: N x M numpy array, where dist[i, j] is the Manhattan distance between\n",
    "        x[i, :] and y[j, :]\n",
    "    \"\"\"\n",
    "    dist = np.empty((x.shape[0], y.shape[0]))\n",
    "    for i in range(x.shape[0]):\n",
    "        for j in range(y.shape[0]):\n",
    "            d = 0\n",
    "            for k in range(x.shape[1]):\n",
    "                d += abs(x[i][k] - y[j][k])\n",
    "            dist[i][j] = d\n",
    "    return dist"
   ]
  },
  {
   "cell_type": "markdown",
   "metadata": {},
   "source": [
    "Let's test the speed of this naive implementation:"
   ]
  },
  {
   "cell_type": "code",
   "execution_count": 20,
   "metadata": {
    "execution": {
     "iopub.execute_input": "2024-12-07T15:29:23.300026Z",
     "iopub.status.busy": "2024-12-07T15:29:23.299586Z",
     "iopub.status.idle": "2024-12-07T15:29:26.296295Z",
     "shell.execute_reply": "2024-12-07T15:29:26.294135Z"
    }
   },
   "outputs": [
    {
     "name": "stdout",
     "output_type": "stream",
     "text": [
      "18 ms ± 230 μs per loop (mean ± std. dev. of 7 runs, 100 loops each)\n"
     ]
    }
   ],
   "source": [
    "%%timeit\n",
    "\n",
    "###############################\n",
    "### DO NOT CHANGE THIS CELL ###\n",
    "###############################\n",
    "\n",
    "\n",
    "x = np.random.rand(100, 3)\n",
    "y = np.random.rand(100, 3)\n",
    "d = slow_manhattan(x, y)"
   ]
  },
  {
   "cell_type": "markdown",
   "metadata": {},
   "source": [
    "Compare this with the vectorized implementation:"
   ]
  },
  {
   "cell_type": "code",
   "execution_count": 21,
   "metadata": {
    "execution": {
     "iopub.execute_input": "2024-12-07T15:29:26.303083Z",
     "iopub.status.busy": "2024-12-07T15:29:26.302138Z",
     "iopub.status.idle": "2024-12-07T15:29:26.344004Z",
     "shell.execute_reply": "2024-12-07T15:29:26.342545Z"
    }
   },
   "outputs": [],
   "source": [
    "###############################\n",
    "### DO NOT CHANGE THIS CELL ###\n",
    "###############################\n",
    "\n",
    "import warmup"
   ]
  },
  {
   "cell_type": "code",
   "execution_count": 24,
   "metadata": {
    "execution": {
     "iopub.execute_input": "2024-12-07T15:29:26.350210Z",
     "iopub.status.busy": "2024-12-07T15:29:26.349207Z",
     "iopub.status.idle": "2024-12-07T15:29:30.491988Z",
     "shell.execute_reply": "2024-12-07T15:29:30.490308Z"
    }
   },
   "outputs": [
    {
     "name": "stdout",
     "output_type": "stream",
     "text": [
      "284 μs ± 2.56 μs per loop (mean ± std. dev. of 7 runs, 1,000 loops each)\n"
     ]
    }
   ],
   "source": [
    "%%timeit\n",
    "\n",
    "###############################\n",
    "### DO NOT CHANGE THIS CELL ###\n",
    "###############################\n",
    "\n",
    "x = np.random.rand(100, 3)\n",
    "y = np.random.rand(100, 3)\n",
    "d = warmup.fast_manhattan(x, y)"
   ]
  },
  {
   "cell_type": "markdown",
   "metadata": {},
   "source": [
    "Finally for `multiple_choice` answer the following by returning the correct integer value: \n",
    "\n",
    "Which of the following best describes the space and time complexity of `slow_manhattan` compared to `fast_manhattan`:\n",
    "- return 0 if: `fast_manhattan` has lower space and time complexity.\n",
    "- return 1 if: `slow_manhattan` has lower space complexity and the same time complexity.\n",
    "- return 2 if: `fast_manhattan` has higher space complexity and lower time complexity.\n",
    "- return 3 if: Both are about the same in space and time complexity."
   ]
  },
  {
   "cell_type": "code",
   "execution_count": 27,
   "metadata": {
    "execution": {
     "iopub.execute_input": "2024-12-07T15:29:30.497628Z",
     "iopub.status.busy": "2024-12-07T15:29:30.497158Z",
     "iopub.status.idle": "2024-12-07T15:29:30.540628Z",
     "shell.execute_reply": "2024-12-07T15:29:30.539026Z"
    }
   },
   "outputs": [
    {
     "data": {
      "text/plain": [
       "1"
      ]
     },
     "execution_count": 27,
     "metadata": {},
     "output_type": "execute_result"
    }
   ],
   "source": [
    "###############################\n",
    "### DO NOT CHANGE THIS CELL ###\n",
    "###############################\n",
    "\n",
    "\n",
    "warmup.multiple_choice()"
   ]
  }
 ],
 "metadata": {
  "colab": {
   "collapsed_sections": [
    "xuEnlmN4_Mv5",
    "OYMGmHnb_Mv5",
    "AsQ451om_Mv6",
    "F6RKWYnT_Mv6",
    "B5lmW2uC_Mv6",
    "fKoOWjNL_Mv6",
    "vEH3Rq6I_Mv7",
    "Ig0zfoum_Mv8",
    "Cj-SyonU_Mv9",
    "nVoCLl_3_Mv9",
    "7EOWVBev_Mv9",
    "XNi4X5bk_MwB",
    "CoW4bOY1_MwC",
    "3xqpO5wU_MwD",
    "47oHreu7_MwD",
    "-vmUAYXN_MwD"
   ],
   "name": "SUMMER2022_HW2_Solutions.ipynb",
   "provenance": []
  },
  "kernelspec": {
   "display_name": "ml_hw1",
   "language": "python",
   "name": "python3"
  },
  "language_info": {
   "codemirror_mode": {
    "name": "ipython",
    "version": 3
   },
   "file_extension": ".py",
   "mimetype": "text/x-python",
   "name": "python",
   "nbconvert_exporter": "python",
   "pygments_lexer": "ipython3",
   "version": "3.11.11"
  }
 },
 "nbformat": 4,
 "nbformat_minor": 4
}
